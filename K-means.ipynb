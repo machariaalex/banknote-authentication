{
 "cells": [
  {
   "cell_type": "code",
   "execution_count": 13,
   "id": "da2cbe0e",
   "metadata": {},
   "outputs": [],
   "source": [
    "#importing libraries\n",
    "import numpy as np\n",
    "import pandas as pd\n",
    "import matplotlib.pyplot as plt\n",
    "%matplotlib inline"
   ]
  },
  {
   "cell_type": "code",
   "execution_count": 3,
   "id": "aeb4924e",
   "metadata": {},
   "outputs": [
    {
     "data": {
      "text/html": [
       "<div>\n",
       "<style scoped>\n",
       "    .dataframe tbody tr th:only-of-type {\n",
       "        vertical-align: middle;\n",
       "    }\n",
       "\n",
       "    .dataframe tbody tr th {\n",
       "        vertical-align: top;\n",
       "    }\n",
       "\n",
       "    .dataframe thead th {\n",
       "        text-align: right;\n",
       "    }\n",
       "</style>\n",
       "<table border=\"1\" class=\"dataframe\">\n",
       "  <thead>\n",
       "    <tr style=\"text-align: right;\">\n",
       "      <th></th>\n",
       "      <th>0</th>\n",
       "      <th>1</th>\n",
       "      <th>2</th>\n",
       "      <th>3</th>\n",
       "      <th>4</th>\n",
       "    </tr>\n",
       "  </thead>\n",
       "  <tbody>\n",
       "    <tr>\n",
       "      <th>0</th>\n",
       "      <td>3.62160</td>\n",
       "      <td>8.6661</td>\n",
       "      <td>-2.8073</td>\n",
       "      <td>-0.44699</td>\n",
       "      <td>0</td>\n",
       "    </tr>\n",
       "    <tr>\n",
       "      <th>1</th>\n",
       "      <td>4.54590</td>\n",
       "      <td>8.1674</td>\n",
       "      <td>-2.4586</td>\n",
       "      <td>-1.46210</td>\n",
       "      <td>0</td>\n",
       "    </tr>\n",
       "    <tr>\n",
       "      <th>2</th>\n",
       "      <td>3.86600</td>\n",
       "      <td>-2.6383</td>\n",
       "      <td>1.9242</td>\n",
       "      <td>0.10645</td>\n",
       "      <td>0</td>\n",
       "    </tr>\n",
       "    <tr>\n",
       "      <th>3</th>\n",
       "      <td>3.45660</td>\n",
       "      <td>9.5228</td>\n",
       "      <td>-4.0112</td>\n",
       "      <td>-3.59440</td>\n",
       "      <td>0</td>\n",
       "    </tr>\n",
       "    <tr>\n",
       "      <th>4</th>\n",
       "      <td>0.32924</td>\n",
       "      <td>-4.4552</td>\n",
       "      <td>4.5718</td>\n",
       "      <td>-0.98880</td>\n",
       "      <td>0</td>\n",
       "    </tr>\n",
       "  </tbody>\n",
       "</table>\n",
       "</div>"
      ],
      "text/plain": [
       "         0       1       2        3  4\n",
       "0  3.62160  8.6661 -2.8073 -0.44699  0\n",
       "1  4.54590  8.1674 -2.4586 -1.46210  0\n",
       "2  3.86600 -2.6383  1.9242  0.10645  0\n",
       "3  3.45660  9.5228 -4.0112 -3.59440  0\n",
       "4  0.32924 -4.4552  4.5718 -0.98880  0"
      ]
     },
     "execution_count": 3,
     "metadata": {},
     "output_type": "execute_result"
    }
   ],
   "source": [
    "#loading dataset\n",
    "dataset = pd.read_csv('data_banknote_authentication.txt', header=None)\n",
    "dataset.head()"
   ]
  },
  {
   "cell_type": "code",
   "execution_count": 4,
   "id": "98f58a35",
   "metadata": {},
   "outputs": [],
   "source": [
    "#splitting dataset into features and labels\n",
    "X = dataset.iloc[:, :-1].values\n",
    "y = dataset.iloc[:, -1].values"
   ]
  },
  {
   "cell_type": "code",
   "execution_count": 5,
   "id": "588dcf96",
   "metadata": {},
   "outputs": [],
   "source": [
    "#splitting dataset into training and test set\n",
    "from sklearn.model_selection import train_test_split\n",
    "X_train, X_test, y_train, y_test = train_test_split(X, y, test_size=0.2, random_state=0)"
   ]
  },
  {
   "cell_type": "code",
   "execution_count": 6,
   "id": "d3d0b4a1",
   "metadata": {},
   "outputs": [],
   "source": [
    "#feature scaling\n",
    "from sklearn.preprocessing import StandardScaler\n",
    "sc = StandardScaler()\n",
    "X_train = sc.fit_transform(X_train)\n",
    "X_test = sc.transform(X_test)"
   ]
  },
  {
   "cell_type": "code",
   "execution_count": 7,
   "id": "4de5a415",
   "metadata": {},
   "outputs": [],
   "source": [
    "#training k-means model on training set\n",
    "from sklearn.cluster import KMeans\n",
    "kmeans = KMeans(n_clusters=2, init='k-means++', random_state=0)\n",
    "y_kmeans = kmeans.fit_predict(X_train)"
   ]
  },
  {
   "cell_type": "code",
   "execution_count": 8,
   "id": "3512af6a",
   "metadata": {},
   "outputs": [
    {
     "data": {
      "image/png": "[encoded data removed]",
      "text/plain": [
       "<Figure size 432x288 with 1 Axes>"
      ]
     },
     "metadata": {
      "needs_background": "light"
     },
     "output_type": "display_data"
    }
   ],
   "source": [
    "#visualizing clusters\n",
    "plt.scatter(X_train[y_kmeans==0, 0], X_train[y_kmeans==0, 1], s=100, c='red', label='Cluster 1')\n",
    "plt.scatter(X_train[y_kmeans==1, 0], X_train[y_kmeans==1, 1], s=100, c='blue', label='Cluster 2')\n",
    "plt.scatter(kmeans.cluster_centers_[:, 0], kmeans.cluster_centers_[:, 1], s=300, c='yellow', label='Centroids')\n",
    "plt.title('Clusters of banknotes')\n",
    "plt.xlabel\n",
    "plt.ylabel\n",
    "plt.legend()\n",
    "plt.show()"
   ]
  },
  {
   "cell_type": "code",
   "execution_count": 9,
   "id": "f1afcf7b",
   "metadata": {},
   "outputs": [
    {
     "name": "stdout",
     "output_type": "stream",
     "text": [
      "Epoch 1/100\n",
      "110/110 [==============================] - 1s 2ms/step - loss: 0.6879 - accuracy: 0.6873\n",
      "Epoch 2/100\n",
      "110/110 [==============================] - 0s 2ms/step - loss: 0.6123 - accuracy: 0.8642\n",
      "Epoch 3/100\n",
      "110/110 [==============================] - 0s 2ms/step - loss: 0.4828 - accuracy: 0.8897\n",
      "Epoch 4/100\n",
      "110/110 [==============================] - 0s 2ms/step - loss: 0.4029 - accuracy: 0.9398\n",
      "Epoch 5/100\n",
      "110/110 [==============================] - 0s 2ms/step - loss: 0.3556 - accuracy: 0.9608\n",
      "Epoch 6/100\n",
      "110/110 [==============================] - 0s 2ms/step - loss: 0.3222 - accuracy: 0.9644\n",
      "Epoch 7/100\n",
      "110/110 [==============================] - 0s 2ms/step - loss: 0.2951 - accuracy: 0.9681\n",
      "Epoch 8/100\n",
      "110/110 [==============================] - 0s 2ms/step - loss: 0.2720 - accuracy: 0.9736\n",
      "Epoch 9/100\n",
      "110/110 [==============================] - 0s 2ms/step - loss: 0.2517 - accuracy: 0.9736\n",
      "Epoch 10/100\n",
      "110/110 [==============================] - 0s 2ms/step - loss: 0.2335 - accuracy: 0.9772\n",
      "Epoch 11/100\n",
      "110/110 [==============================] - 0s 2ms/step - loss: 0.2174 - accuracy: 0.9790\n",
      "Epoch 12/100\n",
      "110/110 [==============================] - 0s 2ms/step - loss: 0.2028 - accuracy: 0.9809\n",
      "Epoch 13/100\n",
      "110/110 [==============================] - 0s 3ms/step - loss: 0.1896 - accuracy: 0.9809\n",
      "Epoch 14/100\n",
      "110/110 [==============================] - 0s 2ms/step - loss: 0.1776 - accuracy: 0.9809\n",
      "Epoch 15/100\n",
      "110/110 [==============================] - 0s 2ms/step - loss: 0.1668 - accuracy: 0.9799\n",
      "Epoch 16/100\n",
      "110/110 [==============================] - 0s 4ms/step - loss: 0.1574 - accuracy: 0.9809\n",
      "Epoch 17/100\n",
      "110/110 [==============================] - 0s 2ms/step - loss: 0.1480 - accuracy: 0.9799\n",
      "Epoch 18/100\n",
      "110/110 [==============================] - 0s 2ms/step - loss: 0.1398 - accuracy: 0.9836\n",
      "Epoch 19/100\n",
      "110/110 [==============================] - 0s 3ms/step - loss: 0.1326 - accuracy: 0.9836\n",
      "Epoch 20/100\n",
      "110/110 [==============================] - 0s 2ms/step - loss: 0.1257 - accuracy: 0.9845\n",
      "Epoch 21/100\n",
      "110/110 [==============================] - 0s 2ms/step - loss: 0.1191 - accuracy: 0.9845\n",
      "Epoch 22/100\n",
      "110/110 [==============================] - 0s 2ms/step - loss: 0.1136 - accuracy: 0.9836\n",
      "Epoch 23/100\n",
      "110/110 [==============================] - 0s 2ms/step - loss: 0.1079 - accuracy: 0.9881\n",
      "Epoch 24/100\n",
      "110/110 [==============================] - 0s 2ms/step - loss: 0.1030 - accuracy: 0.9845\n",
      "Epoch 25/100\n",
      "110/110 [==============================] - 0s 3ms/step - loss: 0.0987 - accuracy: 0.9863\n",
      "Epoch 26/100\n",
      "110/110 [==============================] - 0s 2ms/step - loss: 0.0940 - accuracy: 0.9900\n",
      "Epoch 27/100\n",
      "110/110 [==============================] - 0s 2ms/step - loss: 0.0898 - accuracy: 0.9900\n",
      "Epoch 28/100\n",
      "110/110 [==============================] - 0s 2ms/step - loss: 0.0865 - accuracy: 0.9891\n",
      "Epoch 29/100\n",
      "110/110 [==============================] - 0s 3ms/step - loss: 0.0828 - accuracy: 0.9900\n",
      "Epoch 30/100\n",
      "110/110 [==============================] - 0s 2ms/step - loss: 0.0792 - accuracy: 0.9909\n",
      "Epoch 31/100\n",
      "110/110 [==============================] - 0s 4ms/step - loss: 0.0765 - accuracy: 0.9909\n",
      "Epoch 32/100\n",
      "110/110 [==============================] - 0s 3ms/step - loss: 0.0734 - accuracy: 0.9900\n",
      "Epoch 33/100\n",
      "110/110 [==============================] - 0s 3ms/step - loss: 0.0706 - accuracy: 0.9918\n",
      "Epoch 34/100\n",
      "110/110 [==============================] - 0s 3ms/step - loss: 0.0682 - accuracy: 0.9891\n",
      "Epoch 35/100\n",
      "110/110 [==============================] - 0s 3ms/step - loss: 0.0657 - accuracy: 0.9909\n",
      "Epoch 36/100\n",
      "110/110 [==============================] - 0s 3ms/step - loss: 0.0637 - accuracy: 0.9891\n",
      "Epoch 37/100\n",
      "110/110 [==============================] - 0s 3ms/step - loss: 0.0614 - accuracy: 0.9891\n",
      "Epoch 38/100\n",
      "110/110 [==============================] - 0s 2ms/step - loss: 0.0593 - accuracy: 0.9900\n",
      "Epoch 39/100\n",
      "110/110 [==============================] - 0s 2ms/step - loss: 0.0575 - accuracy: 0.9891\n",
      "Epoch 40/100\n",
      "110/110 [==============================] - 0s 3ms/step - loss: 0.0558 - accuracy: 0.9900\n",
      "Epoch 41/100\n",
      "110/110 [==============================] - 0s 2ms/step - loss: 0.0539 - accuracy: 0.9900\n",
      "Epoch 42/100\n",
      "110/110 [==============================] - 0s 2ms/step - loss: 0.0532 - accuracy: 0.9891\n",
      "Epoch 43/100\n",
      "110/110 [==============================] - 0s 3ms/step - loss: 0.0510 - accuracy: 0.9891\n",
      "Epoch 44/100\n",
      "110/110 [==============================] - 0s 3ms/step - loss: 0.0497 - accuracy: 0.9881\n",
      "Epoch 45/100\n",
      "110/110 [==============================] - 0s 2ms/step - loss: 0.0484 - accuracy: 0.9891\n",
      "Epoch 46/100\n",
      "110/110 [==============================] - 0s 2ms/step - loss: 0.0478 - accuracy: 0.9881\n",
      "Epoch 47/100\n",
      "110/110 [==============================] - 0s 2ms/step - loss: 0.0461 - accuracy: 0.9881\n",
      "Epoch 48/100\n",
      "110/110 [==============================] - 0s 2ms/step - loss: 0.0452 - accuracy: 0.9900\n",
      "Epoch 49/100\n",
      "110/110 [==============================] - 0s 2ms/step - loss: 0.0443 - accuracy: 0.9900\n",
      "Epoch 50/100\n",
      "110/110 [==============================] - 0s 4ms/step - loss: 0.0430 - accuracy: 0.9881\n",
      "Epoch 51/100\n",
      "110/110 [==============================] - 1s 4ms/step - loss: 0.0419 - accuracy: 0.9881\n",
      "Epoch 52/100\n",
      "110/110 [==============================] - 1s 5ms/step - loss: 0.0409 - accuracy: 0.9891\n",
      "Epoch 53/100\n",
      "110/110 [==============================] - 1s 5ms/step - loss: 0.0400 - accuracy: 0.9881\n",
      "Epoch 54/100\n",
      "110/110 [==============================] - 1s 6ms/step - loss: 0.0392 - accuracy: 0.9872\n",
      "Epoch 55/100\n",
      "110/110 [==============================] - 1s 5ms/step - loss: 0.0395 - accuracy: 0.9872\n",
      "Epoch 56/100\n",
      "110/110 [==============================] - 1s 5ms/step - loss: 0.0374 - accuracy: 0.9881\n",
      "Epoch 57/100\n",
      "110/110 [==============================] - 1s 5ms/step - loss: 0.0373 - accuracy: 0.9872\n",
      "Epoch 58/100\n",
      "110/110 [==============================] - 0s 4ms/step - loss: 0.0375 - accuracy: 0.9881\n",
      "Epoch 59/100\n",
      "110/110 [==============================] - 0s 4ms/step - loss: 0.0359 - accuracy: 0.9872\n",
      "Epoch 60/100\n",
      "110/110 [==============================] - 1s 5ms/step - loss: 0.0358 - accuracy: 0.9891\n",
      "Epoch 61/100\n",
      "110/110 [==============================] - 0s 3ms/step - loss: 0.0352 - accuracy: 0.9881\n",
      "Epoch 62/100\n",
      "110/110 [==============================] - 0s 2ms/step - loss: 0.0347 - accuracy: 0.9872\n",
      "Epoch 63/100\n",
      "110/110 [==============================] - 0s 2ms/step - loss: 0.0342 - accuracy: 0.9872\n",
      "Epoch 64/100\n",
      "110/110 [==============================] - 0s 2ms/step - loss: 0.0336 - accuracy: 0.9891\n",
      "Epoch 65/100\n",
      "110/110 [==============================] - 0s 2ms/step - loss: 0.0344 - accuracy: 0.9872\n",
      "Epoch 66/100\n",
      "110/110 [==============================] - 0s 2ms/step - loss: 0.0328 - accuracy: 0.9872\n",
      "Epoch 67/100\n",
      "110/110 [==============================] - 0s 2ms/step - loss: 0.0317 - accuracy: 0.9881\n",
      "Epoch 68/100\n",
      "110/110 [==============================] - 0s 2ms/step - loss: 0.0315 - accuracy: 0.9881\n",
      "Epoch 69/100\n",
      "110/110 [==============================] - 0s 2ms/step - loss: 0.0315 - accuracy: 0.9881\n",
      "Epoch 70/100\n",
      "110/110 [==============================] - 0s 2ms/step - loss: 0.0313 - accuracy: 0.9863\n",
      "Epoch 71/100\n",
      "110/110 [==============================] - 0s 2ms/step - loss: 0.0320 - accuracy: 0.9881\n",
      "Epoch 72/100\n",
      "110/110 [==============================] - 0s 2ms/step - loss: 0.0311 - accuracy: 0.9872\n",
      "Epoch 73/100\n",
      "110/110 [==============================] - 0s 2ms/step - loss: 0.0303 - accuracy: 0.9872\n",
      "Epoch 74/100\n",
      "110/110 [==============================] - 0s 2ms/step - loss: 0.0300 - accuracy: 0.9872\n",
      "Epoch 75/100\n",
      "110/110 [==============================] - 0s 2ms/step - loss: 0.0292 - accuracy: 0.9881\n",
      "Epoch 76/100\n",
      "110/110 [==============================] - 0s 2ms/step - loss: 0.0296 - accuracy: 0.9891\n",
      "Epoch 77/100\n",
      "110/110 [==============================] - 0s 2ms/step - loss: 0.0297 - accuracy: 0.9872\n",
      "Epoch 78/100\n",
      "110/110 [==============================] - 0s 2ms/step - loss: 0.0300 - accuracy: 0.9881\n",
      "Epoch 79/100\n",
      "110/110 [==============================] - 0s 2ms/step - loss: 0.0291 - accuracy: 0.9900\n",
      "Epoch 80/100\n",
      "110/110 [==============================] - 0s 2ms/step - loss: 0.0284 - accuracy: 0.9872\n",
      "Epoch 81/100\n"
     ]
    },
    {
     "name": "stdout",
     "output_type": "stream",
     "text": [
      "110/110 [==============================] - 0s 2ms/step - loss: 0.0292 - accuracy: 0.9863\n",
      "Epoch 82/100\n",
      "110/110 [==============================] - 0s 2ms/step - loss: 0.0281 - accuracy: 0.9891\n",
      "Epoch 83/100\n",
      "110/110 [==============================] - 0s 2ms/step - loss: 0.0277 - accuracy: 0.9881\n",
      "Epoch 84/100\n",
      "110/110 [==============================] - 0s 2ms/step - loss: 0.0288 - accuracy: 0.9872\n",
      "Epoch 85/100\n",
      "110/110 [==============================] - 0s 2ms/step - loss: 0.0274 - accuracy: 0.9872\n",
      "Epoch 86/100\n",
      "110/110 [==============================] - 0s 2ms/step - loss: 0.0278 - accuracy: 0.9891\n",
      "Epoch 87/100\n",
      "110/110 [==============================] - 0s 2ms/step - loss: 0.0279 - accuracy: 0.9872\n",
      "Epoch 88/100\n",
      "110/110 [==============================] - 0s 2ms/step - loss: 0.0271 - accuracy: 0.9872\n",
      "Epoch 89/100\n",
      "110/110 [==============================] - 0s 2ms/step - loss: 0.0269 - accuracy: 0.9863\n",
      "Epoch 90/100\n",
      "110/110 [==============================] - 0s 2ms/step - loss: 0.0273 - accuracy: 0.9872\n",
      "Epoch 91/100\n",
      "110/110 [==============================] - 0s 2ms/step - loss: 0.0264 - accuracy: 0.9891\n",
      "Epoch 92/100\n",
      "110/110 [==============================] - 0s 2ms/step - loss: 0.0265 - accuracy: 0.9881\n",
      "Epoch 93/100\n",
      "110/110 [==============================] - 0s 2ms/step - loss: 0.0268 - accuracy: 0.9909\n",
      "Epoch 94/100\n",
      "110/110 [==============================] - 0s 2ms/step - loss: 0.0277 - accuracy: 0.9881\n",
      "Epoch 95/100\n",
      "110/110 [==============================] - 0s 2ms/step - loss: 0.0268 - accuracy: 0.9872\n",
      "Epoch 96/100\n",
      "110/110 [==============================] - 0s 2ms/step - loss: 0.0265 - accuracy: 0.9891\n",
      "Epoch 97/100\n",
      "110/110 [==============================] - 0s 2ms/step - loss: 0.0260 - accuracy: 0.9872\n",
      "Epoch 98/100\n",
      "110/110 [==============================] - 0s 2ms/step - loss: 0.0272 - accuracy: 0.9891\n",
      "Epoch 99/100\n",
      "110/110 [==============================] - 0s 2ms/step - loss: 0.0266 - accuracy: 0.9872\n",
      "Epoch 100/100\n",
      "110/110 [==============================] - 0s 3ms/step - loss: 0.0261 - accuracy: 0.9872\n"
     ]
    },
    {
     "data": {
      "text/plain": [
       "<keras.callbacks.History at 0x21556960f70>"
      ]
     },
     "execution_count": 9,
     "metadata": {},
     "output_type": "execute_result"
    }
   ],
   "source": [
    "#training neural network model on training set\n",
    "import keras\n",
    "from keras.models import Sequential\n",
    "from keras.layers import Dense\n",
    "classifier = Sequential()\n",
    "classifier.add(Dense(units=6, kernel_initializer='uniform', activation='relu', input_dim=4))\n",
    "classifier.add(Dense(units=6, kernel_initializer='uniform', activation='relu'))\n",
    "classifier.add(Dense(units=1, kernel_initializer='uniform', activation='sigmoid'))\n",
    "classifier.compile(optimizer='adam', loss='binary_crossentropy', metrics=['accuracy'])\n",
    "classifier.fit(X_train, y_train, batch_size=10, epochs=100)"
   ]
  },
  {
   "cell_type": "code",
   "execution_count": 10,
   "id": "34828e3b",
   "metadata": {},
   "outputs": [
    {
     "name": "stdout",
     "output_type": "stream",
     "text": [
      "9/9 [==============================] - 0s 2ms/step\n"
     ]
    }
   ],
   "source": [
    "#predicting test set results\n",
    "y_pred = classifier.predict(X_test)\n",
    "y_pred = (y_pred > 0.5)"
   ]
  },
  {
   "cell_type": "code",
   "execution_count": 11,
   "id": "d8859167",
   "metadata": {},
   "outputs": [
    {
     "data": {
      "text/plain": [
       "array([[155,   2],\n",
       "       [  0, 118]], dtype=int64)"
      ]
     },
     "execution_count": 11,
     "metadata": {},
     "output_type": "execute_result"
    }
   ],
   "source": [
    "#making confusion matrix\n",
    "from sklearn.metrics import confusion_matrix\n",
    "cm = confusion_matrix(y_test, y_pred)\n",
    "cm"
   ]
  },
  {
   "cell_type": "code",
   "execution_count": 12,
   "id": "fcf01bba",
   "metadata": {},
   "outputs": [
    {
     "data": {
      "text/plain": [
       "0.9927272727272727"
      ]
     },
     "execution_count": 12,
     "metadata": {},
     "output_type": "execute_result"
    }
   ],
   "source": [
    "#calculating accuracy\n",
    "from sklearn.metrics import accuracy_score\n",
    "accuracy = accuracy_score(y_test, y_pred)\n",
    "accuracy"
   ]
  },
  {
   "cell_type": "code",
   "execution_count": null,
   "id": "c85b3b3f",
   "metadata": {},
   "outputs": [],
   "source": []
  }
 ],
 "metadata": {
  "kernelspec": {
   "display_name": "Python 3 (ipykernel)",
   "language": "python",
   "name": "python3"
  },
  "language_info": {
   "codemirror_mode": {
    "name": "ipython",
    "version": 3
   },
   "file_extension": ".py",
   "mimetype": "text/x-python",
   "name": "python",
   "nbconvert_exporter": "python",
   "pygments_lexer": "ipython3",
   "version": "3.9.12"
  },
  "varInspector": {
   "cols": {
    "lenName": 16,
    "lenType": 16,
    "lenVar": 40
   },
   "kernels_config": {
    "python": {
     "delete_cmd_postfix": "",
     "delete_cmd_prefix": "del ",
     "library": "var_list.py",
     "varRefreshCmd": "print(var_dic_list())"
    },
    "r": {
     "delete_cmd_postfix": ") ",
     "delete_cmd_prefix": "rm(",
     "library": "var_list.r",
     "varRefreshCmd": "cat(var_dic_list()) "
    }
   },
   "types_to_exclude": [
    "module",
    "function",
    "builtin_function_or_method",
    "instance",
    "_Feature"
   ],
   "window_display": false
  }
 },
 "nbformat": 4,
 "nbformat_minor": 5
}
